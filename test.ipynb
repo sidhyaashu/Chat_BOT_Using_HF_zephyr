{
 "cells": [
  {
   "cell_type": "code",
   "execution_count": 16,
   "metadata": {},
   "outputs": [],
   "source": [
    "import gradio as gr\n",
    "from huggingface_hub import InferenceClient\n",
    "import streamlit as st\n",
    "import getpass\n",
    "import os\n",
    "from dotenv import load_dotenv"
   ]
  },
  {
   "cell_type": "code",
   "execution_count": 17,
   "metadata": {},
   "outputs": [
    {
     "data": {
      "text/plain": [
       "True"
      ]
     },
     "execution_count": 17,
     "metadata": {},
     "output_type": "execute_result"
    }
   ],
   "source": [
    "load_dotenv()"
   ]
  },
  {
   "cell_type": "code",
   "execution_count": 18,
   "metadata": {},
   "outputs": [],
   "source": [
    "os.environ[\"HUGGINGFACEHUB_API_TOKEN\"] = getpass.getpass()"
   ]
  },
  {
   "cell_type": "code",
   "execution_count": 19,
   "metadata": {},
   "outputs": [],
   "source": [
    "client = InferenceClient(\"HuggingFaceH4/zephyr-7b-beta\")"
   ]
  },
  {
   "cell_type": "code",
   "execution_count": 20,
   "metadata": {},
   "outputs": [],
   "source": [
    "def respond(\n",
    "    message,\n",
    "    history: list[tuple[str, str]],\n",
    "    system_message,\n",
    "    max_tokens,\n",
    "    temperature,\n",
    "    top_p,\n",
    "):\n",
    "    messages = [{\"role\": \"system\", \"content\": system_message}]\n",
    "\n",
    "    for val in history:\n",
    "        if val[0]:\n",
    "            messages.append({\"role\": \"user\", \"content\": val[0]})\n",
    "        if val[1]:\n",
    "            messages.append({\"role\": \"assistant\", \"content\": val[1]})\n",
    "\n",
    "    messages.append({\"role\": \"user\", \"content\": message})\n",
    "\n",
    "    response = \"\"\n",
    "\n",
    "    for message in client.chat_completion(\n",
    "        messages,\n",
    "        max_tokens=max_tokens,\n",
    "        stream=True,\n",
    "        temperature=temperature,\n",
    "        top_p=top_p,\n",
    "    ):\n",
    "        token = message.choices[0].delta.content\n",
    "\n",
    "        response += token\n",
    "        yield response\n",
    "\n",
    "\n",
    "demo = gr.ChatInterface(\n",
    "    respond,\n",
    "    additional_inputs=[\n",
    "        gr.Textbox(value=\"You are a friendly Chatbot.\", label=\"System message\"),\n",
    "        gr.Slider(minimum=1, maximum=2048, value=512, step=1, label=\"Max new tokens\"),\n",
    "        gr.Slider(minimum=0.1, maximum=4.0, value=0.7, step=0.1, label=\"Temperature\"),\n",
    "        gr.Slider(\n",
    "            minimum=0.1,\n",
    "            maximum=1.0,\n",
    "            value=0.95,\n",
    "            step=0.05,\n",
    "            label=\"Top-p (nucleus sampling)\",\n",
    "        ),\n",
    "    ],\n",
    ")"
   ]
  },
  {
   "cell_type": "code",
   "execution_count": 21,
   "metadata": {},
   "outputs": [],
   "source": [
    "demo = gr.ChatInterface(\n",
    "    respond,\n",
    "    additional_inputs=[\n",
    "        gr.Textbox(value=\"You are a friendly Chatbot.\", label=\"System message\"),\n",
    "        gr.Slider(minimum=1, maximum=2048, value=512, step=1, label=\"Max new tokens\"),\n",
    "        gr.Slider(minimum=0.1, maximum=4.0, value=0.7, step=0.1, label=\"Temperature\"),\n",
    "        gr.Slider(\n",
    "            minimum=0.1,\n",
    "            maximum=1.0,\n",
    "            value=0.95,\n",
    "            step=0.05,\n",
    "            label=\"Top-p (nucleus sampling)\",\n",
    "        ),\n",
    "    ],\n",
    ")"
   ]
  },
  {
   "cell_type": "code",
   "execution_count": 22,
   "metadata": {},
   "outputs": [
    {
     "name": "stdout",
     "output_type": "stream",
     "text": [
      "Running on local URL:  http://127.0.0.1:7862\n",
      "\n",
      "To create a public link, set `share=True` in `launch()`.\n"
     ]
    },
    {
     "data": {
      "text/html": [
       "<div><iframe src=\"http://127.0.0.1:7862/\" width=\"100%\" height=\"500\" allow=\"autoplay; camera; microphone; clipboard-read; clipboard-write;\" frameborder=\"0\" allowfullscreen></iframe></div>"
      ],
      "text/plain": [
       "<IPython.core.display.HTML object>"
      ]
     },
     "metadata": {},
     "output_type": "display_data"
    },
    {
     "data": {
      "text/plain": []
     },
     "execution_count": 22,
     "metadata": {},
     "output_type": "execute_result"
    },
    {
     "name": "stderr",
     "output_type": "stream",
     "text": [
      "Traceback (most recent call last):\n",
      "  File \"d:\\Download\\anaconda_install\\envs\\chatbot\\lib\\site-packages\\huggingface_hub\\utils\\_errors.py\", line 304, in hf_raise_for_status\n",
      "    response.raise_for_status()\n",
      "  File \"d:\\Download\\anaconda_install\\envs\\chatbot\\lib\\site-packages\\requests\\models.py\", line 1024, in raise_for_status\n",
      "    raise HTTPError(http_error_msg, response=self)\n",
      "requests.exceptions.HTTPError: 400 Client Error: Bad Request for url: https://api-inference.huggingface.co/models/HuggingFaceH4/zephyr-7b-beta\n",
      "\n",
      "The above exception was the direct cause of the following exception:\n",
      "\n",
      "Traceback (most recent call last):\n",
      "  File \"d:\\Download\\anaconda_install\\envs\\chatbot\\lib\\site-packages\\gradio\\queueing.py\", line 536, in process_events\n",
      "    response = await route_utils.call_process_api(\n",
      "  File \"d:\\Download\\anaconda_install\\envs\\chatbot\\lib\\site-packages\\gradio\\route_utils.py\", line 321, in call_process_api\n",
      "    output = await app.get_blocks().process_api(\n",
      "  File \"d:\\Download\\anaconda_install\\envs\\chatbot\\lib\\site-packages\\gradio\\blocks.py\", line 1935, in process_api\n",
      "    result = await self.call_function(\n",
      "  File \"d:\\Download\\anaconda_install\\envs\\chatbot\\lib\\site-packages\\gradio\\blocks.py\", line 1532, in call_function\n",
      "    prediction = await utils.async_iteration(iterator)\n",
      "  File \"d:\\Download\\anaconda_install\\envs\\chatbot\\lib\\site-packages\\gradio\\utils.py\", line 671, in async_iteration\n",
      "    return await iterator.__anext__()\n",
      "  File \"d:\\Download\\anaconda_install\\envs\\chatbot\\lib\\site-packages\\gradio\\utils.py\", line 776, in asyncgen_wrapper\n",
      "    response = await iterator.__anext__()\n",
      "  File \"d:\\Download\\anaconda_install\\envs\\chatbot\\lib\\site-packages\\gradio\\chat_interface.py\", line 653, in _stream_fn\n",
      "    first_response = await async_iteration(generator)\n",
      "  File \"d:\\Download\\anaconda_install\\envs\\chatbot\\lib\\site-packages\\gradio\\utils.py\", line 671, in async_iteration\n",
      "    return await iterator.__anext__()\n",
      "  File \"d:\\Download\\anaconda_install\\envs\\chatbot\\lib\\site-packages\\gradio\\utils.py\", line 664, in __anext__\n",
      "    return await anyio.to_thread.run_sync(\n",
      "  File \"d:\\Download\\anaconda_install\\envs\\chatbot\\lib\\site-packages\\anyio\\to_thread.py\", line 56, in run_sync\n",
      "    return await get_async_backend().run_sync_in_worker_thread(\n",
      "  File \"d:\\Download\\anaconda_install\\envs\\chatbot\\lib\\site-packages\\anyio\\_backends\\_asyncio.py\", line 2177, in run_sync_in_worker_thread\n",
      "    return await future\n",
      "  File \"d:\\Download\\anaconda_install\\envs\\chatbot\\lib\\site-packages\\anyio\\_backends\\_asyncio.py\", line 859, in run\n",
      "    result = context.run(func, *args)\n",
      "  File \"d:\\Download\\anaconda_install\\envs\\chatbot\\lib\\site-packages\\gradio\\utils.py\", line 647, in run_sync_iterator_async\n",
      "    return next(iterator)\n",
      "  File \"C:\\Users\\ashut\\AppData\\Local\\Temp\\ipykernel_5856\\4062112468.py\", line 21, in respond\n",
      "    for message in client.chat_completion(\n",
      "  File \"d:\\Download\\anaconda_install\\envs\\chatbot\\lib\\site-packages\\huggingface_hub\\inference\\_client.py\", line 626, in chat_completion\n",
      "    text_generation_output = self.text_generation(\n",
      "  File \"d:\\Download\\anaconda_install\\envs\\chatbot\\lib\\site-packages\\huggingface_hub\\inference\\_client.py\", line 1841, in text_generation\n",
      "    raise_text_generation_error(e)\n",
      "  File \"d:\\Download\\anaconda_install\\envs\\chatbot\\lib\\site-packages\\huggingface_hub\\inference\\_common.py\", line 470, in raise_text_generation_error\n",
      "    raise http_error\n",
      "  File \"d:\\Download\\anaconda_install\\envs\\chatbot\\lib\\site-packages\\huggingface_hub\\inference\\_client.py\", line 1817, in text_generation\n",
      "    bytes_output = self.post(json=payload, model=model, task=\"text-generation\", stream=stream)  # type: ignore\n",
      "  File \"d:\\Download\\anaconda_install\\envs\\chatbot\\lib\\site-packages\\huggingface_hub\\inference\\_client.py\", line 267, in post\n",
      "    hf_raise_for_status(response)\n",
      "  File \"d:\\Download\\anaconda_install\\envs\\chatbot\\lib\\site-packages\\huggingface_hub\\utils\\_errors.py\", line 358, in hf_raise_for_status\n",
      "    raise BadRequestError(message, response=response) from e\n",
      "huggingface_hub.utils._errors.BadRequestError:  (Request ID: EBP4MI6hlWitpQ-UrHpT8)\n",
      "\n",
      "Bad request:\n",
      "Authorization header is correct, but the token seems invalid\n"
     ]
    }
   ],
   "source": [
    "demo.launch()"
   ]
  },
  {
   "cell_type": "code",
   "execution_count": null,
   "metadata": {},
   "outputs": [],
   "source": []
  }
 ],
 "metadata": {
  "kernelspec": {
   "display_name": "base",
   "language": "python",
   "name": "python3"
  },
  "language_info": {
   "codemirror_mode": {
    "name": "ipython",
    "version": 3
   },
   "file_extension": ".py",
   "mimetype": "text/x-python",
   "name": "python",
   "nbconvert_exporter": "python",
   "pygments_lexer": "ipython3",
   "version": "3.9.19"
  }
 },
 "nbformat": 4,
 "nbformat_minor": 2
}
